{
  "nbformat": 4,
  "nbformat_minor": 0,
  "metadata": {
    "colab": {
      "provenance": [],
      "authorship_tag": "ABX9TyPePNQMdAkG23FHeiG7LrbX",
      "include_colab_link": true
    },
    "kernelspec": {
      "name": "python3",
      "display_name": "Python 3"
    },
    "language_info": {
      "name": "python"
    }
  },
  "cells": [
    {
      "cell_type": "markdown",
      "metadata": {
        "id": "view-in-github",
        "colab_type": "text"
      },
      "source": [
        "<a href=\"https://colab.research.google.com/github/regmibishal99/College-labs/blob/main/Untitled0.ipynb\" target=\"_parent\"><img src=\"https://colab.research.google.com/assets/colab-badge.svg\" alt=\"Open In Colab\"/></a>"
      ]
    },
    {
      "cell_type": "code",
      "execution_count": 3,
      "metadata": {
        "colab": {
          "base_uri": "https://localhost:8080/"
        },
        "id": "YibQu37B-wCi",
        "outputId": "a865ab7d-09ea-4143-9f64-ed269ff85714"
      },
      "outputs": [
        {
          "output_type": "stream",
          "name": "stdout",
          "text": [
            "   ID    Name   Age Gender   location\n",
            "0   1  samrat  24.0   male     gworko\n",
            "1   2   rajan  26.0   male  kkoteshor\n",
            "2   3   arbin  24.0   male   lalitpur\n",
            "3   4  bishal  18.0   male  bhaktapur\n",
            "4   5    None   NaN   None       None\n"
          ]
        }
      ],
      "source": [
        "import numpy as np\n",
        "import pandas as pd\n",
        "\n",
        "data = {\n",
        "    'ID': [1, 2, 3, 4, 5],\n",
        "    'Name': ['samrat', 'rajan', 'arbin', 'bishal', 'None'],\n",
        "    'Age': [24, 26, 24, 18,None],\n",
        "    'Gender': ['male', 'male', 'male', 'male','None'],\n",
        "    'location': ['gworko', 'kkoteshor', 'lalitpur', 'bhaktapur','None'],\n",
        "}\n",
        "\n",
        "df = pd.DataFrame(data)\n",
        "print(df)"
      ]
    },
    {
      "cell_type": "code",
      "source": [],
      "metadata": {
        "id": "_0DZM0gL_zk1"
      },
      "execution_count": null,
      "outputs": []
    }
  ]
}